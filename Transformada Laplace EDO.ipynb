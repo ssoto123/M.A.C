{
 "cells": [
  {
   "cell_type": "code",
   "execution_count": 1,
   "metadata": {},
   "outputs": [],
   "source": [
    "# importando modulos necesarios\n",
    "%matplotlib inline\n",
    "\n",
    "import matplotlib.pyplot as plt\n",
    "import numpy as np\n",
    "import sympy \n",
    "from scipy import integrate\n",
    "\n",
    "# imprimir con notación matemática.\n",
    "sympy.init_printing(use_latex='mathjax')"
   ]
  },
  {
   "cell_type": "code",
   "execution_count": 2,
   "metadata": {},
   "outputs": [
    {
     "data": {
      "text/latex": [
       "$$200 y{\\left (t \\right )} - 150 \\sin{\\left (10 t \\right )} + 20 \\frac{d}{d t} y{\\left (t \\right )} + \\frac{d^{2}}{d t^{2}} y{\\left (t \\right )} = 0$$"
      ],
      "text/plain": [
       "                                           2          \n",
       "                              d           d           \n",
       "200⋅y(t) - 150⋅sin(10⋅t) + 20⋅──(y(t)) + ───(y(t)) = 0\n",
       "                              dt           2          \n",
       "                                         dt           "
      ]
     },
     "execution_count": 2,
     "metadata": {},
     "output_type": "execute_result"
    }
   ],
   "source": [
    "# Ejemplo de transformada de Laplace\n",
    "# Defino las incognitas\n",
    "t = sympy.symbols(\"t\", positive=True)\n",
    "y = sympy.Function(\"y\")\n",
    "\n",
    "# Defino la ecuación\n",
    "edo =1*y(t).diff(t,t) + 20*y(t).diff(t) + (200)*y(t)-150*sympy.sin(10*t)\n",
    "sympy.Eq(edo)"
   ]
  },
  {
   "cell_type": "code",
   "execution_count": 3,
   "metadata": {},
   "outputs": [],
   "source": [
    "# simbolos adicionales.\n",
    "s, Y = sympy.symbols(\"s, Y\", real=True)"
   ]
  },
  {
   "cell_type": "code",
   "execution_count": 4,
   "metadata": {},
   "outputs": [
    {
     "data": {
      "text/latex": [
       "$$200 \\mathcal{L}_{t}\\left[y{\\left (t \\right )}\\right]\\left(s\\right) + 20 \\mathcal{L}_{t}\\left[\\frac{d}{d t} y{\\left (t \\right )}\\right]\\left(s\\right) + \\mathcal{L}_{t}\\left[\\frac{d^{2}}{d t^{2}} y{\\left (t \\right )}\\right]\\left(s\\right) - \\frac{1500}{s^{2} + 100} = 0$$"
      ],
      "text/plain": [
       "                                                                              \n",
       "                                                      ⎛d             ⎞        \n",
       "200⋅LaplaceTransform(y(t), t, s) + 20⋅LaplaceTransform⎜──(y(t)), t, s⎟ + Lapla\n",
       "                                                      ⎝dt            ⎠        \n",
       "                                                                              \n",
       "\n",
       "           ⎛  2            ⎞               \n",
       "           ⎜ d             ⎟     1500      \n",
       "ceTransform⎜───(y(t)), t, s⎟ - ──────── = 0\n",
       "           ⎜  2            ⎟    2          \n",
       "           ⎝dt             ⎠   s  + 100    "
      ]
     },
     "execution_count": 4,
     "metadata": {},
     "output_type": "execute_result"
    }
   ],
   "source": [
    "# Calculo la transformada de Laplace \n",
    "L_edo = sympy.laplace_transform(edo, t, s, noconds=True)\n",
    "sympy.Eq(L_edo)"
   ]
  },
  {
   "cell_type": "code",
   "execution_count": null,
   "metadata": {},
   "outputs": [],
   "source": [
    "def laplace_transform_derivatives(e):\n",
    "    \"\"\"\n",
    "    Evalua las transformadas de Laplace de derivadas de funciones sin evaluar.\n",
    "    \"\"\"\n",
    "    if isinstance(e, sympy.LaplaceTransform):\n",
    "        if isinstance(e.args[0], sympy.Derivative):\n",
    "            d, t, s = e.args \n",
    "            n = len(d.args) - 1\n",
    "            return ((s**n) * sympy.LaplaceTransform(d.args[0], t, s) -\n",
    "                    sum([s**(n-i) * sympy.diff(d.args[0], t, i-1).subs(t, 0)\n",
    "                         for i in range(1, n+1)]))\n",
    "        \n",
    "    if isinstance(e, (sympy.Add, sympy.Mul)):\n",
    "        t = type(e) \n",
    "        return t(*[laplace_transform_derivatives(arg) for arg in e.args])\n",
    "    \n",
    "    return e"
   ]
  },
  {
   "cell_type": "code",
   "execution_count": null,
   "metadata": {},
   "outputs": [],
   "source": [
    "# Aplicamos la nueva funcion para evaluar las transformadas de Laplace\n",
    "# de derivadas\n",
    "L_edo_2 = laplace_transform_derivatives(L_edo)\n",
    "sympy.Eq(L_edo_2)"
   ]
  },
  {
   "cell_type": "code",
   "execution_count": null,
   "metadata": {},
   "outputs": [],
   "source": [
    "# reemplazamos la transfomada de Laplace de y(t) por la incognita Y\n",
    "# para facilitar la lectura de la ecuación.\n",
    "L_edo_3 = L_edo_2.subs(sympy.laplace_transform(y(t), t, s), Y)\n",
    "sympy.Eq(L_edo_3)"
   ]
  },
  {
   "cell_type": "code",
   "execution_count": null,
   "metadata": {},
   "outputs": [],
   "source": [
    "# Definimos las condiciones iniciales\n",
    "ics = {y(0): 0, y(t).diff(t).subs(t, 0): -3}\n",
    "ics"
   ]
  },
  {
   "cell_type": "code",
   "execution_count": null,
   "metadata": {},
   "outputs": [],
   "source": [
    "# Aplicamos las condiciones iniciales\n",
    "L_edo_4 = L_edo_3.subs(ics)\n",
    "L_edo_4"
   ]
  },
  {
   "cell_type": "code",
   "execution_count": null,
   "metadata": {},
   "outputs": [],
   "source": [
    "# Resolvemos la ecuación y arribamos a la Transformada de Laplace\n",
    "# que es equivalente a nuestra ecuación diferencial\n",
    "Y_sol = sympy.solve(L_edo_4, Y)\n",
    "Y_sol"
   ]
  },
  {
   "cell_type": "code",
   "execution_count": null,
   "metadata": {},
   "outputs": [],
   "source": [
    "# Por último, calculamos al inversa de la Transformada de Laplace que \n",
    "# obtuvimos arriba, para obtener la solución de nuestra ecuación diferencial.\n",
    "y_sol = sympy.inverse_laplace_transform(Y_sol[0], s, t)\n",
    "y_sol"
   ]
  },
  {
   "cell_type": "code",
   "execution_count": null,
   "metadata": {},
   "outputs": [],
   "source": [
    "# Comprobamos la solución.\n",
    "y_sol.subs(t, 0), sympy.diff(y_sol).subs(t, 0)"
   ]
  },
  {
   "cell_type": "code",
   "execution_count": null,
   "metadata": {},
   "outputs": [],
   "source": []
  }
 ],
 "metadata": {
  "kernelspec": {
   "display_name": "Python 3",
   "language": "python",
   "name": "python3"
  },
  "language_info": {
   "codemirror_mode": {
    "name": "ipython",
    "version": 3
   },
   "file_extension": ".py",
   "mimetype": "text/x-python",
   "name": "python",
   "nbconvert_exporter": "python",
   "pygments_lexer": "ipython3",
   "version": "3.7.1"
  }
 },
 "nbformat": 4,
 "nbformat_minor": 2
}
