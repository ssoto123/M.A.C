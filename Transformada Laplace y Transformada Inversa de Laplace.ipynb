{
 "cells": [
  {
   "cell_type": "code",
   "execution_count": 1,
   "metadata": {},
   "outputs": [],
   "source": [
    "import sympy\n",
    "from sympy import *\n",
    "sympy.init_printing()\n",
    "import matplotlib.pyplot as plt\n",
    "%matplotlib inline"
   ]
  },
  {
   "cell_type": "code",
   "execution_count": 2,
   "metadata": {},
   "outputs": [],
   "source": [
    "t = sympy.Symbol('t')\n",
    "s = sympy.Symbol('s')\n",
    "a = sympy.Symbol('a', real=True, positive=True)"
   ]
  },
  {
   "cell_type": "code",
   "execution_count": 4,
   "metadata": {},
   "outputs": [
    {
     "data": {
      "image/png": "[encoded data removed]",
      "text/latex": [
       "$\\displaystyle \\cos{\\left(2 t \\right)} + 1$"
      ],
      "text/plain": [
       "cos(2⋅t) + 1"
      ]
     },
     "execution_count": 4,
     "metadata": {},
     "output_type": "execute_result"
    }
   ],
   "source": [
    "f = (1+cos(2*t))\n",
    "f"
   ]
  },
  {
   "cell_type": "code",
   "execution_count": 5,
   "metadata": {},
   "outputs": [
    {
     "data": {
      "image/png": "[encoded data removed]",
      "text/latex": [
       "$\\displaystyle \\frac{2 \\left(s^{2} + 2\\right)}{s \\left(s^{2} + 4\\right)}$"
      ],
      "text/plain": [
       "  ⎛ 2    ⎞\n",
       "2⋅⎝s  + 2⎠\n",
       "──────────\n",
       "  ⎛ 2    ⎞\n",
       "s⋅⎝s  + 4⎠"
      ]
     },
     "execution_count": 5,
     "metadata": {},
     "output_type": "execute_result"
    }
   ],
   "source": [
    "F = sympy.laplace_transform(f, t, s, noconds=True)\n",
    "F"
   ]
  },
  {
   "cell_type": "markdown",
   "metadata": {},
   "source": [
    "Transformada Inversa"
   ]
  },
  {
   "cell_type": "code",
   "execution_count": 6,
   "metadata": {},
   "outputs": [],
   "source": [
    "def L(f):\n",
    "   return sympy.laplace_transform(f, t, s, noconds=True)"
   ]
  },
  {
   "cell_type": "code",
   "execution_count": 7,
   "metadata": {},
   "outputs": [
    {
     "data": {
      "image/png": "[encoded data removed]",
      "text/latex": [
       "$\\displaystyle \\frac{2 \\left(s^{2} + 2\\right)}{s \\left(s^{2} + 4\\right)}$"
      ],
      "text/plain": [
       "  ⎛ 2    ⎞\n",
       "2⋅⎝s  + 2⎠\n",
       "──────────\n",
       "  ⎛ 2    ⎞\n",
       "s⋅⎝s  + 4⎠"
      ]
     },
     "execution_count": 7,
     "metadata": {},
     "output_type": "execute_result"
    }
   ],
   "source": [
    " L(f)"
   ]
  },
  {
   "cell_type": "code",
   "execution_count": 8,
   "metadata": {},
   "outputs": [],
   "source": [
    "FI=(1/((s**3)+5*s))\n",
    "def invL(FI):\n",
    "    return sympy.inverse_laplace_transform(FI, s, t)"
   ]
  },
  {
   "cell_type": "code",
   "execution_count": 9,
   "metadata": {},
   "outputs": [
    {
     "data": {
      "image/png": "[encoded data removed]",
      "text/latex": [
       "$\\displaystyle - \\frac{\\left(\\cos{\\left(\\sqrt{5} t \\right)} - 1\\right) \\theta\\left(t\\right)}{5}$"
      ],
      "text/plain": [
       "-(cos(√5⋅t) - 1)⋅θ(t) \n",
       "──────────────────────\n",
       "          5           "
      ]
     },
     "execution_count": 9,
     "metadata": {},
     "output_type": "execute_result"
    }
   ],
   "source": [
    "invL(FI)"
   ]
  },
  {
   "cell_type": "code",
   "execution_count": null,
   "metadata": {},
   "outputs": [],
   "source": []
  }
 ],
 "metadata": {
  "kernelspec": {
   "display_name": "Python 3",
   "language": "python",
   "name": "python3"
  },
  "language_info": {
   "codemirror_mode": {
    "name": "ipython",
    "version": 3
   },
   "file_extension": ".py",
   "mimetype": "text/x-python",
   "name": "python",
   "nbconvert_exporter": "python",
   "pygments_lexer": "ipython3",
   "version": "3.8.8"
  }
 },
 "nbformat": 4,
 "nbformat_minor": 4
}
